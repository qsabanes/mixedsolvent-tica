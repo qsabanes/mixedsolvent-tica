{
 "cells": [
  {
   "cell_type": "markdown",
   "metadata": {},
   "source": [
    "# TICA + clusterization of mixed solvent simulations\n",
    "\n",
    "In this document you can find the process explained in *\"NAME OF ARTICLE\"*\n",
    "This document is an adaptation of the PyEMMA tutorials to this framework. If you want to check the original source please refer to: http://www.emma-project.org/latest/tutorial.html\n",
    "\n",
    "To perform these calculations you will need to have installed the following software/libraries:\n",
    "\n",
    "**Part 1 (Python)**\n",
    "* pyemma http://www.emma-project.org/latest/INSTALL.html\n",
    "* numpy\n",
    "* matplotlib\n",
    "* mdtraj https://www.mdtraj.org/1.9.5/installation.html\n",
    "\n",
    "**Part 2 (R)**\n",
    "* ggplot2\n",
    "* gridextra\n",
    "* grid\n",
    "* dplyr\n",
    "* ggpointdensity\n",
    "* ggsci\n",
    "* cowplot\n",
    "\n",
    "In this document you will find the first part of the process, which in consists in dimensionality reduction based on TICA"
   ]
  },
  {
   "cell_type": "markdown",
   "metadata": {},
   "source": [
    "## 1. Load python libraries"
   ]
  },
  {
   "cell_type": "code",
   "execution_count": null,
   "metadata": {},
   "outputs": [],
   "source": [
    "%matplotlib inline\n",
    "import matplotlib.pyplot as plt\n",
    "import matplotlib as mpl\n",
    "import numpy as np\n",
    "import pyemma\n",
    "\n",
    "# Define scoring function for our features\n",
    "def score_cv(data, dim, lag, number_of_splits=10, validation_fraction=0.5):\n",
    "    \"\"\"Compute a cross-validated VAMP2 score.\n",
    "    \n",
    "    We randomly split the list of independent trajectories into\n",
    "    a training and a validation set, compute the VAMP2 score,\n",
    "    and repeat this process several times.\n",
    "    \n",
    "    Parameters\n",
    "    ----------\n",
    "    data : list of numpy.ndarrays\n",
    "        The input data.\n",
    "    dim : int\n",
    "        Number of processes to score; equivalent to the dimension\n",
    "        after projecting the data with VAMP2.\n",
    "    lag : int\n",
    "        Lag time for the VAMP2 scoring.\n",
    "    number_of_splits : int, optional, default=10\n",
    "        How often do we repeat the splitting and score calculation.\n",
    "    validation_fraction : int, optional, default=0.5\n",
    "        Fraction of trajectories which should go into the validation\n",
    "        set during a split.\n",
    "    \"\"\"\n",
    "    # we temporarily suppress very short-lived progress bars\n",
    "    from pyemma.util.contexts import settings\n",
    "    with settings(show_progress_bars=False):\n",
    "        nval = int(len(data) * validation_fraction)\n",
    "        scores = np.zeros(number_of_splits)\n",
    "        for n in range(number_of_splits):\n",
    "            ival = np.random.choice(len(data), size=nval, replace=False)\n",
    "            vamp = pyemma.coordinates.vamp(\n",
    "                [d for i, d in enumerate(data) if i not in ival], lag=lag, dim=dim)\n",
    "            scores[n] = vamp.score([d for i, d in enumerate(data) if i in ival])\n",
    "    return scores"
   ]
  },
  {
   "cell_type": "markdown",
   "metadata": {},
   "source": [
    "## 2. Load data: PDB and MD trajectories\n",
    "\n",
    "Please remember to align your trajectories before performing any kind of analysis.\n",
    "You can use *TICA_Mixed_Solvent_fitting.py*"
   ]
  },
  {
   "cell_type": "code",
   "execution_count": null,
   "metadata": {},
   "outputs": [],
   "source": [
    "pdb = 'XYZ.pdb' #Reference PDB\n",
    "import glob\n",
    "files = []\n",
    "for file in glob.glob('XYZ*.xtc'): #Load trajectory or a series of trajectories. In this example is done as the latter\n",
    "    files.append(file)\n",
    "files"
   ]
  },
  {
   "cell_type": "code",
   "execution_count": null,
   "metadata": {},
   "outputs": [],
   "source": [
    "files = sorted(files)\n",
    "files"
   ]
  },
  {
   "cell_type": "markdown",
   "metadata": {},
   "source": [
    "## 3. Load features"
   ]
  },
  {
   "cell_type": "code",
   "execution_count": null,
   "metadata": {},
   "outputs": [],
   "source": [
    "#Torsions\n",
    "torsions_feat = pyemma.coordinates.featurizer(pdb)\n",
    "torsions_feat.add_backbone_torsions(cossin=True, periodic=False)\n",
    "torsions_data = pyemma.coordinates.load(files, features=torsions_feat)\n",
    "\n",
    "#Positions\n",
    "positions_feat = pyemma.coordinates.featurizer(pdb)\n",
    "positions_feat.add_selection(positions_feat.select_Backbone())\n",
    "positions_data = pyemma.coordinates.load(files, features=positions_feat)\n",
    "\n",
    "#Distances between Key residues/ other?\n",
    "distances_feat = pyemma.coordinates.featurizer(pdb)\n",
    "distance_indices = distances_feat.select('index XXX YYY ZZZ') #Identify which atom indices correspond to the ones of interest\n",
    "distances_feat.add_distances(distance_indices, periodic=False)\n",
    "distances_data = pyemma.coordinates.load(files, features=distances_feat)\n",
    "\n"
   ]
  },
  {
   "cell_type": "code",
   "execution_count": null,
   "metadata": {},
   "outputs": [],
   "source": [
    "distances_feat.describe() #We check that we have selected to correct atoms"
   ]
  },
  {
   "cell_type": "markdown",
   "metadata": {},
   "source": [
    "## 4.1 TICA for backbone torsions as a feature"
   ]
  },
  {
   "cell_type": "code",
   "execution_count": null,
   "metadata": {},
   "outputs": [],
   "source": [
    "tica = pyemma.coordinates.tica(torsions_data, lag=XY, dim=4) #choose a lag time\n",
    "tica_output = tica.get_output()\n",
    "tica_concatenated = np.concatenate(tica_output)\n",
    "\n",
    "fig, axes = plt.subplots(1, 2, figsize=(10, 4))\n",
    "pyemma.plots.plot_feature_histograms(\n",
    "    tica_concatenated,\n",
    "    ax=axes[0],\n",
    "    feature_labels=['IC1', 'IC2', 'IC3', 'IC4'],\n",
    "    ylog=True)\n",
    "pyemma.plots.plot_density(*tica_concatenated[:, :2].T, ax=axes[1], logscale=True)\n",
    "axes[1].set_xlabel('IC 1')\n",
    "axes[1].set_ylabel('IC 2')\n",
    "fig.tight_layout()"
   ]
  },
  {
   "cell_type": "markdown",
   "metadata": {},
   "source": [
    "### Save TICA data for later use"
   ]
  },
  {
   "cell_type": "code",
   "execution_count": null,
   "metadata": {},
   "outputs": [],
   "source": [
    "np.savetxt(\"tica_torsions.csv\", tica_concatenated, delimiter=\",\", header='TIC1,TIC2,TIC4,TIC4')"
   ]
  },
  {
   "cell_type": "markdown",
   "metadata": {},
   "source": [
    "### Get extremes for easy visualization on the TICA motions"
   ]
  },
  {
   "cell_type": "code",
   "execution_count": null,
   "metadata": {},
   "outputs": [],
   "source": [
    "tica.get_output(dimensions=[0])\n",
    "order = np.argsort(np.concatenate(tics)[:,0])[0:50]\n",
    "per_traj_indices = np.concatenate([np.array((np.ones(l, dtype=int)*i, np.arange(l))).T for i,l in enumerate(tica.trajectory_lengths())])\n",
    "pyemma.coordinates.save_traj(files, per_traj_indices[order], 'TIC1_extreme_negative_torsions.xtc', top=pdb)"
   ]
  },
  {
   "cell_type": "code",
   "execution_count": null,
   "metadata": {},
   "outputs": [],
   "source": [
    "tics = tica.get_output(dimensions=[1])\n",
    "order = np.argsort(np.concatenate(tics)[:,0])[0:50]\n",
    "per_traj_indices = np.concatenate([np.array((np.ones(l, dtype=int)*i, np.arange(l))).T for i,l in enumerate(tica.trajectory_lengths())])\n",
    "pyemma.coordinates.save_traj(files, per_traj_indices[order], 'TIC2_extreme_negative_torsions.xtc', top=pdb)"
   ]
  },
  {
   "cell_type": "markdown",
   "metadata": {},
   "source": [
    "## 4.2 TICA for backbone coordinates as a feature"
   ]
  },
  {
   "cell_type": "code",
   "execution_count": null,
   "metadata": {},
   "outputs": [],
   "source": [
    "tica = pyemma.coordinates.tica(positions_data, lag=XY, dim=4) #choose a lag time\n",
    "tica_output = tica.get_output()\n",
    "tica_concatenated = np.concatenate(tica_output)\n",
    "\n",
    "fig, axes = plt.subplots(1, 2, figsize=(10, 4))\n",
    "pyemma.plots.plot_feature_histograms(\n",
    "    tica_concatenated,\n",
    "    ax=axes[0],\n",
    "    feature_labels=['IC1', 'IC2', 'IC3', 'IC4'],\n",
    "    ylog=True)\n",
    "pyemma.plots.plot_density(*tica_concatenated[:, :2].T, ax=axes[1], logscale=True)\n",
    "axes[1].set_xlabel('IC 1')\n",
    "axes[1].set_ylabel('IC 2')\n",
    "fig.tight_layout()"
   ]
  },
  {
   "cell_type": "markdown",
   "metadata": {},
   "source": [
    "### Save TICA data for later use"
   ]
  },
  {
   "cell_type": "code",
   "execution_count": null,
   "metadata": {},
   "outputs": [],
   "source": [
    "np.savetxt(\"tica_coord.csv\", tica_concatenated, delimiter=\",\", header='TIC1,TIC2,TIC4,TIC4')"
   ]
  },
  {
   "cell_type": "markdown",
   "metadata": {},
   "source": [
    "### Get extremes for easy visualization on the TICA motions"
   ]
  },
  {
   "cell_type": "code",
   "execution_count": null,
   "metadata": {},
   "outputs": [],
   "source": [
    "tics = tica.get_output(dimensions=[0])\n",
    "order = np.argsort(np.concatenate(tics)[:,0])[0:50]\n",
    "per_traj_indices = np.concatenate([np.array((np.ones(l, dtype=int)*i, np.arange(l))).T for i,l in enumerate(tica.trajectory_lengths())])\n",
    "pyemma.coordinates.save_traj(files, per_traj_indices[order], 'TIC1_extreme_negative_coord.xtc', top=pdb)"
   ]
  },
  {
   "cell_type": "code",
   "execution_count": null,
   "metadata": {},
   "outputs": [],
   "source": [
    "tics = tica.get_output(dimensions=[1])\n",
    "order = np.argsort(np.concatenate(tics)[:,0])[0:50]\n",
    "per_traj_indices = np.concatenate([np.array((np.ones(l, dtype=int)*i, np.arange(l))).T for i,l in enumerate(tica.trajectory_lengths())])\n",
    "pyemma.coordinates.save_traj(files, per_traj_indices[order], 'TIC2_extreme_negative_coord.xtc', top=pdb)"
   ]
  },
  {
   "cell_type": "markdown",
   "metadata": {},
   "source": [
    "## 4.3 TICA for distances between atoms"
   ]
  },
  {
   "cell_type": "code",
   "execution_count": null,
   "metadata": {},
   "outputs": [],
   "source": [
    "tica = pyemma.coordinates.tica(distances_data, lag=XY, dim=4) #choose a lag time\n",
    "tica_output = tica.get_output()\n",
    "tica_concatenated = np.concatenate(tica_output)\n",
    "\n",
    "fig, axes = plt.subplots(1, 2, figsize=(10, 4))\n",
    "pyemma.plots.plot_feature_histograms(\n",
    "    tica_concatenated,\n",
    "    ax=axes[0],\n",
    "    feature_labels=['IC1', 'IC2', 'IC3','IC4'],\n",
    "    ylog=True)\n",
    "pyemma.plots.plot_density(*tica_concatenated[:, :2].T, ax=axes[1], logscale=True)\n",
    "axes[1].set_xlabel('IC 1')\n",
    "axes[1].set_ylabel('IC 2')\n",
    "fig.tight_layout()"
   ]
  },
  {
   "cell_type": "markdown",
   "metadata": {},
   "source": [
    "### Save TICA for later use"
   ]
  },
  {
   "cell_type": "code",
   "execution_count": null,
   "metadata": {},
   "outputs": [],
   "source": [
    "np.savetxt(\"tica_distances.csv\", tica_concatenated, delimiter=\",\", header='TIC1,TIC2,TIC4,TIC4')"
   ]
  },
  {
   "cell_type": "markdown",
   "metadata": {},
   "source": [
    "### Get extremes for easy visualization on the TICA motions"
   ]
  },
  {
   "cell_type": "code",
   "execution_count": null,
   "metadata": {},
   "outputs": [],
   "source": [
    "tics = tica.get_output(dimensions=[0])\n",
    "order = np.argsort(np.concatenate(tics)[:,0])[0:50]\n",
    "per_traj_indices = np.concatenate([np.array((np.ones(l, dtype=int)*i, np.arange(l))).T for i,l in enumerate(tica.trajectory_lengths())])\n",
    "pyemma.coordinates.save_traj(files, per_traj_indices[order], 'TIC1_extreme_negative_distances.xtc', top=pdb)"
   ]
  },
  {
   "cell_type": "code",
   "execution_count": null,
   "metadata": {},
   "outputs": [],
   "source": [
    "tics = tica.get_output(dimensions=[1])\n",
    "order = np.argsort(np.concatenate(tics)[:,0])[0:50]\n",
    "per_traj_indices = np.concatenate([np.array((np.ones(l, dtype=int)*i, np.arange(l))).T for i,l in enumerate(tica.trajectory_lengths())])\n",
    "pyemma.coordinates.save_traj(files, per_traj_indices[order], 'TIC2_extreme_negative_distances.xtc', top=pdb)"
   ]
  },
  {
   "cell_type": "markdown",
   "metadata": {},
   "source": [
    "## 5. Clusterize to calculate Implied Timescales"
   ]
  },
  {
   "cell_type": "code",
   "execution_count": null,
   "metadata": {},
   "outputs": [],
   "source": [
    "cluster = pyemma.coordinates.cluster_kmeans(\n",
    "    tica_output, k=100, max_iter=50, stride=10, fixed_seed=1)\n",
    "dtrajs_concatenated = np.concatenate(cluster.dtrajs)\n",
    "\n",
    "fig, ax = plt.subplots(figsize=(4, 4))\n",
    "pyemma.plots.plot_free_energy(\n",
    "    *tica_concatenated[:, :2].T, ax=ax, cbar=False, legacy=False)\n",
    "ax.scatter(*cluster.clustercenters[:, :2].T, s=15, c='k')\n",
    "ax.set_xlabel('IC 1')\n",
    "ax.set_ylabel('IC 2')\n",
    "fig.tight_layout()"
   ]
  },
  {
   "cell_type": "markdown",
   "metadata": {},
   "source": [
    "## 6. Calculate Implied Timescales"
   ]
  },
  {
   "cell_type": "code",
   "execution_count": null,
   "metadata": {},
   "outputs": [],
   "source": [
    "its = pyemma.msm.its(cluster.dtrajs, lags=XY, nits=10, errors='bayes')\n",
    "pyemma.plots.plot_implied_timescales(its, units='ns', dt=0.2);"
   ]
  }
 ],
 "metadata": {
  "kernelspec": {
   "display_name": "Python 3",
   "language": "python",
   "name": "python3"
  },
  "language_info": {
   "codemirror_mode": {
    "name": "ipython",
    "version": 3
   },
   "file_extension": ".py",
   "mimetype": "text/x-python",
   "name": "python",
   "nbconvert_exporter": "python",
   "pygments_lexer": "ipython3",
   "version": "3.9.1"
  },
  "toc": {
   "base_numbering": 1,
   "nav_menu": {},
   "number_sections": true,
   "sideBar": true,
   "skip_h1_title": false,
   "title_cell": "Table of Contents",
   "title_sidebar": "Contents",
   "toc_cell": false,
   "toc_position": {},
   "toc_section_display": true,
   "toc_window_display": false
  }
 },
 "nbformat": 4,
 "nbformat_minor": 2
}
