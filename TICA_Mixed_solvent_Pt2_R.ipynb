{
 "cells": [
  {
   "cell_type": "markdown",
   "id": "b323dcca",
   "metadata": {},
   "source": [
    "# Part 2. Plotting, clusterization and extracting centers\n",
    "\n",
    "This is the second part of the methodology explained in \"NAME OF ARTICLE\" for clusterization in mixed solvent simulations\n",
    "\n",
    "If you do not have the R kernel installed in your jupyter notebook please type the following command in the anaconda prompt:"
   ]
  },
  {
   "cell_type": "code",
   "execution_count": null,
   "id": "30fe20b1",
   "metadata": {},
   "outputs": [],
   "source": [
    "conda install -c r r-irkernel"
   ]
  },
  {
   "cell_type": "markdown",
   "id": "0571941b",
   "metadata": {},
   "source": [
    "Otherwise you can use the following code in another software like RStudio\n",
    "Furthermore, please install the libraries listed below if you do not have them with:"
   ]
  },
  {
   "cell_type": "code",
   "execution_count": null,
   "id": "66c312d7",
   "metadata": {},
   "outputs": [],
   "source": [
    "install.packages(\"name_of_library\")"
   ]
  },
  {
   "cell_type": "markdown",
   "id": "afae953b",
   "metadata": {},
   "source": []
  },
  {
   "cell_type": "markdown",
   "id": "33833a66",
   "metadata": {},
   "source": [
    "# 1. Libraries and loading data\n",
    "\n",
    "## 1.1 Load libraries"
   ]
  },
  {
   "cell_type": "code",
   "execution_count": null,
   "id": "intensive-judgment",
   "metadata": {},
   "outputs": [],
   "source": [
    "library(ggplot2)\n",
    "library(gridExtra)\n",
    "library(grid)\n",
    "library(wesanderson)\n",
    "library(dplyr)\n",
    "library(ggpointdensity)\n",
    "library(ggsci)\n",
    "library(cowplot)"
   ]
  },
  {
   "cell_type": "markdown",
   "id": "2dd4c5ab",
   "metadata": {},
   "source": [
    "## 1.2 Set variables and working directory"
   ]
  },
  {
   "cell_type": "code",
   "execution_count": null,
   "id": "fabulous-berkeley",
   "metadata": {},
   "outputs": [],
   "source": [
    "##INPUT YOUR VARIABLES HERE\n",
    "SOL=\"IMI\" #Solvent\n",
    "FEAT=\"torsions\" #Feature\n",
    "PROT=\"IL13Ra1\" #Protein\n",
    "\n",
    "#This is used to allow minimum editing of the script while working with multiple solvents and proteins"
   ]
  },
  {
   "cell_type": "code",
   "execution_count": null,
   "id": "expensive-boost",
   "metadata": {},
   "outputs": [],
   "source": [
    "setwd(paste0(\"TYPE_YOUR_WORKING_DIRECTORY_HERE\"))\n",
    "getwd()"
   ]
  },
  {
   "cell_type": "markdown",
   "id": "5f29b6fc",
   "metadata": {},
   "source": [
    "## 1.3 Load data"
   ]
  },
  {
   "cell_type": "code",
   "execution_count": null,
   "id": "gentle-birth",
   "metadata": {},
   "outputs": [],
   "source": [
    "mydata <- read.csv(paste0(\"tica_\",FEAT,\".csv\")) # .csv file obtained from part 1\n",
    "colnames(mydata) <- c(\"TIC1\",\"TIC2\",\"TIC3\",\"TIC4\")\n",
    "mydata"
   ]
  },
  {
   "cell_type": "markdown",
   "id": "d7d419f6",
   "metadata": {},
   "source": [
    "# 2 Plots and clusters\n",
    "\n",
    "## 2.1 Density plot of TIC1 and TIC2 "
   ]
  },
  {
   "cell_type": "code",
   "execution_count": null,
   "id": "horizontal-circus",
   "metadata": {},
   "outputs": [],
   "source": [
    "plot_TICA <- ggplot(mydata, aes(TIC1,TIC2))+geom_pointdensity()+\n",
    "  scale_color_viridis_c()+\n",
    "  theme_bw()+\n",
    "  theme(panel.grid.major = element_blank(),\n",
    "        plot.title = element_text(size = 20, face = \"bold\"),\n",
    "        panel.grid.minor = element_blank(),\n",
    "        legend.position = \"none\",\n",
    "        axis.text = element_text(size = 20),\n",
    "        axis.title = element_text(size = 20))\n",
    "plot_TICA"
   ]
  },
  {
   "cell_type": "markdown",
   "id": "398c10bd",
   "metadata": {},
   "source": [
    "## 2.2 Clusterize via kmeans and plot"
   ]
  },
  {
   "cell_type": "code",
   "execution_count": null,
   "id": "communist-speaking",
   "metadata": {},
   "outputs": [],
   "source": [
    "clusters <- kmeans(mydata[,1:2], 15) #Our default is 15 clusters, but you can optimize this value to your liking\n",
    "centers <- clusters$centers\n",
    "centers <- as.data.frame(clusters$centers)\n",
    "centers$ID <- seq.int(nrow(centers))\n",
    "plot_TICA_km <- ggplot(mydata, aes(TIC1,TIC2))+geom_point(aes(colour= as.factor(clusters$cluster)))\n",
    "plot_TICA_km <- plot_TICA_km + scale_color_simpsons()+\n",
    "  geom_label(data=centers, aes(label=ID), fontface=\"bold\")+\n",
    "  theme_bw()+\n",
    "  theme(panel.grid.major = element_blank(),\n",
    "        plot.title = element_text(size = 20, face = \"bold\"),\n",
    "        panel.grid.minor = element_blank(),\n",
    "        legend.position = \"none\",\n",
    "        axis.text = element_text(size = 20),\n",
    "        axis.title = element_text(size = 20))\n",
    "plot_TICA_km"
   ]
  },
  {
   "cell_type": "markdown",
   "id": "bb6d039f",
   "metadata": {},
   "source": [
    "### Attention!\n",
    "We will use this plot to help ourselves with the state discretization. Now is up to the user to decide in how many states do we want to divide the ensemble and which clusters form part of them. We will need this information in the future."
   ]
  },
  {
   "cell_type": "markdown",
   "id": "c2323874",
   "metadata": {},
   "source": [
    "## 2.3 Extract the frames for every cluster + its centers"
   ]
  },
  {
   "cell_type": "code",
   "execution_count": null,
   "id": "latin-flexibility",
   "metadata": {},
   "outputs": [],
   "source": [
    "setwd(paste0(\"YOUR_OUTPUTS_DIRECTORY_HERE\"))\n",
    "\n",
    "cluster_frame_ID <- data.frame(clusters$cluster)\n",
    "number <- cluster_frame_ID$Frame <- 1:nrow(cluster_frame_ID)-1\n",
    "TICA_only <- mydata[,1:2]\n",
    "prot <- cluster_frame_ID$protein <- paste(\"protein\", cluster_frame_ID$Frame, \".pdb\", sep=\"\")\n",
    "TICA_frame <- cbind(cluster_frame_ID, TICA_only)\n",
    "TICA_frame_arranged <- TICA_frame %>% arrange(clusters.cluster)\n",
    "write.table(TICA_frame_arranged, file=\"cluster_frame_ID.txt\", quote = FALSE)\n",
    "# Extract a txt for each cluster, with list of corresponding frames #\n",
    "out <- split(TICA_frame_arranged, f=TICA_frame_arranged$clusters.cluster)\n",
    "for (a in 1:15){ #Remember to edit this value if you use a different number of clusters\n",
    "  cluster_a <- out[[a]]\n",
    "  cluster_a <- cluster_a$protein\n",
    "  write(cluster_a, file= paste0(\"cluster_\",a,\".txt\"))\n",
    "  \n",
    "}\n",
    "\n",
    "center_added <- data.frame()\n",
    "for (i in 1:15){ #Remember to edit this value if you use a different number of clusters\n",
    "  cluster1 <- data.frame(TICA_frame[clusters$cluster==i,])\n",
    "  #calculate the euclidean distance between each data point in cluster 1 and the centroid 1\n",
    "  #store in column dist\n",
    "  cluster1 <- cluster1 %>% mutate(dist=sqrt(  (cluster1[,4] - clusters$centers[1,1])^2 +\n",
    "                                                (cluster1[,5] -clusters$centers[1,2])^2) \n",
    "  )\n",
    "  \n",
    "  \n",
    "  #nearest point to cluster i\n",
    "  center <- cluster1[which.min(cluster1$dist), ]\n",
    "  center_added <- rbind(center_added,center)\n",
    "}\n",
    "center_added\n",
    "\n",
    "center_added <- center_added[c(1:2)]\n",
    "write.table(center_added, \"cluster_centers.txt\", row.names = FALSE)"
   ]
  },
  {
   "cell_type": "markdown",
   "id": "70e28d9c",
   "metadata": {},
   "source": [
    "## 3. Join the plots and save"
   ]
  },
  {
   "cell_type": "code",
   "execution_count": null,
   "id": "informational-interval",
   "metadata": {},
   "outputs": [],
   "source": [
    "figure <- grid.arrange(plot_TICA, plot_TICA_km,\n",
    "                        nrow=1)\n",
    "figure2 <- cowplot::ggdraw(figure)+\n",
    "  theme(plot.background = element_rect(fill=\"white\", color=NA))\n",
    "\n",
    "png(file=paste0(\"TICA_joined.png\"), type=\"cairo\",\n",
    "    width = 800, height = 400)\n",
    "plot(figure2)\n",
    "dev.off()"
   ]
  },
  {
   "cell_type": "code",
   "execution_count": null,
   "id": "automotive-pendant",
   "metadata": {},
   "outputs": [],
   "source": [
    "png(file=paste0(\"TICA_km.png\"),type = \"cairo\",\n",
    "    width = 450, height = 450)\n",
    "plot(plot_TICA_km)\n",
    "dev.off()\n",
    "png(file=paste0(\"TICA_dens.png\"),type = \"cairo\",\n",
    "    width = 450, height = 450)\n",
    "plot(plot_TICA)\n",
    "dev.off()\n"
   ]
  }
 ],
 "metadata": {
  "kernelspec": {
   "display_name": "R",
   "language": "R",
   "name": "ir"
  },
  "language_info": {
   "codemirror_mode": "r",
   "file_extension": ".r",
   "mimetype": "text/x-r-source",
   "name": "R",
   "pygments_lexer": "r",
   "version": "3.6.1"
  }
 },
 "nbformat": 4,
 "nbformat_minor": 5
}
